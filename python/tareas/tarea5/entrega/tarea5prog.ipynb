{
  "nbformat": 4,
  "nbformat_minor": 0,
  "metadata": {
    "colab": {
      "provenance": []
    },
    "kernelspec": {
      "name": "python3",
      "display_name": "Python 3"
    },
    "language_info": {
      "name": "python"
    }
  },
  "cells": [
    {
      "cell_type": "markdown",
      "source": [
        "Programa 1"
      ],
      "metadata": {
        "id": "RYEN1uyJdpAw"
      }
    },
    {
      "cell_type": "code",
      "execution_count": 1,
      "metadata": {
        "colab": {
          "base_uri": "https://localhost:8080/"
        },
        "id": "rITDLnhmdeFD",
        "outputId": "fcc1a74d-4b05-4b79-ad2e-f43db251789b"
      },
      "outputs": [
        {
          "output_type": "stream",
          "name": "stdout",
          "text": [
            "lista de numeros aleatorios: [5, 10, 4, 3, 10]\n",
            "Lista de numeros con valorers pares modificados: [5, 12, 6, 3, 12]\n",
            "Numero 5 dividido entre: 8\n",
            "Numero 10 dividido entre: 1\n",
            "Numero 4 dividido entre: 8\n",
            "Numero 3 dividido entre: 7\n",
            "Numero 10 dividido entre: 2\n",
            "lista numeros divididos alleatoriamente: [0.62, 10.0, 0.5, 0.43, 5.0]\n"
          ]
        }
      ],
      "source": [
        "import random\n",
        "\n",
        "\n",
        "numeros = [\n",
        "    random.randint(1,10),\n",
        "    random.randint(1,10),\n",
        "    random.randint(1,10),\n",
        "    random.randint(1,10),\n",
        "    random.randint(1,10),]\n",
        "\n",
        "numerosDivision = [\n",
        "    random.randint(1,10),\n",
        "    random.randint(1,10),\n",
        "    random.randint(1,10),\n",
        "    random.randint(1,10),\n",
        "    random.randint(1,10),]\n",
        "numerosModificados = []\n",
        "numerosResultadosDivision = []\n",
        "\n",
        "print(\"lista de numeros aleatorios:\",numeros)\n",
        "\n",
        "for i in range(5):\n",
        "\n",
        "\n",
        "    if numeros[i] % 2 == 0:\n",
        "\n",
        "        numerosModificados.append(numeros[i]+2)\n",
        "    else:\n",
        "         numerosModificados.append(numeros[i])\n",
        "\n",
        "print(\"Lista de numeros con valorers pares modificados:\",numerosModificados)\n",
        "\n",
        "for i in range(5):\n",
        "    print(\"Numero\", numeros[i], \"dividido entre:\", numerosDivision[i])\n",
        "    resultado = numeros[i] / numerosDivision[i]\n",
        "    numerosResultadosDivision.append(round(resultado, 2))\n",
        "\n",
        "print(\"lista numeros divididos alleatoriamente:\",numerosResultadosDivision)"
      ]
    },
    {
      "cell_type": "markdown",
      "source": [
        "Programa 2"
      ],
      "metadata": {
        "id": "VkkOhEuNd151"
      }
    },
    {
      "cell_type": "code",
      "source": [
        "oracion = input(\"Ingrese oracion:\")\n",
        "espacios =0\n",
        "letras = 0\n",
        "\n",
        "letrasInverasas=[]\n",
        "numeroLetras = len(oracion)\n",
        "oracionList = list((oracion.lower()))\n",
        "oracionListInversa = []\n",
        "listaVocales= []\n",
        "listaConsonantes = []\n",
        "numeros = 0\n",
        "\n",
        "for i in oracionList:\n",
        "\n",
        "    letras += 1\n",
        "    if i == \" \":\n",
        "        espacios += 1\n",
        "    if oracionList[letras-1] == \"1\"  or oracionList[letras-1] ==  \"2\" or oracionList[letras-1] == \"3\" or oracionList[letras-1] == \"4\" or oracionList[letras-1] == \"5\" or oracionList[letras-1] == \"6\" or oracionList[letras-1] == \"7\" or oracionList[letras-1] == \"8\" or oracionList[letras-1] == \"9\" or oracionList[letras-1] == \"0\":\n",
        "        numeros += 1\n",
        "    else:\n",
        "        if oracionList[letras-1] == \"a\"  or oracionList[letras-1] ==  \"e\" or oracionList[letras-1] == \"i\" or oracionList[letras-1] == \"o\" or oracionList[letras-1] == \"u\":\n",
        "            listaVocales.append(oracionList[letras-1])\n",
        "        else:\n",
        "            listaConsonantes.append(oracionList[letras-1])\n",
        "\n",
        "    oracionListInversa.append(oracionList[numeroLetras-1])\n",
        "    numeroLetras -= 1\n",
        "\n",
        "print(\"tu oracion es la siguiente: \", oracion)\n",
        "print(\"numero de caracteres:\", letras)\n",
        "print(\"numero de letras:\", letras-espacios-numeros)\n",
        "print(\"numero de espacios:\", espacios)\n",
        "print(\"numero total de numeros:\", numeros)\n",
        "print(\"lista vocales:\", *listaVocales)\n",
        "print(\"lista consonantes:\", *listaConsonantes)\n",
        "print(\"oracion orden inversa\",*oracionListInversa)\n",
        "\n",
        "\n",
        "\n"
      ],
      "metadata": {
        "colab": {
          "base_uri": "https://localhost:8080/"
        },
        "id": "qW0wt4kcdwZH",
        "outputId": "daf179ab-d6f2-4127-b494-93dc016ea0d4"
      },
      "execution_count": 2,
      "outputs": [
        {
          "output_type": "stream",
          "name": "stdout",
          "text": [
            "Ingrese oracion:hola como estas 33\n",
            "tu oracion es la siguiente:  hola como estas 33\n",
            "numero de caracteres: 18\n",
            "numero de letras: 13\n",
            "numero de espacios: 3\n",
            "numero total de numeros: 2\n",
            "lista vocales: o a o o e a\n",
            "lista consonantes: h l   c m   s t s  \n",
            "oracion orden inversa 3 3   s a t s e   o m o c   a l o h\n"
          ]
        }
      ]
    },
    {
      "cell_type": "markdown",
      "source": [
        "Programa 3"
      ],
      "metadata": {
        "id": "56FUi8Wqd8db"
      }
    },
    {
      "cell_type": "code",
      "source": [
        "import random\n",
        "listaaleatorios =[]\n",
        "numeroObjetosLista= 15\n",
        "min = 0\n",
        "max = 0\n",
        "\n",
        "\n",
        "\n",
        "#creacion lista\n",
        "for i in range(numeroObjetosLista):\n",
        "    numeroRandom = random.randint(1,100)\n",
        "    listaaleatorios.append(numeroRandom)\n",
        "\n",
        "\n",
        "#Minimo y maximo\n",
        "min = listaaleatorios[0]\n",
        "for x in listaaleatorios:\n",
        "       if x < min:\n",
        "           min = x\n",
        "max = listaaleatorios[0]\n",
        "for z in listaaleatorios:\n",
        "       if z > max:\n",
        "           max = z\n",
        "\n",
        "print(\"lista de numeros aleatorios:\", *listaaleatorios)\n",
        "print(\"numero mayor en la lista:\",max)\n",
        "print(\"numero menor en la lista:\",min)"
      ],
      "metadata": {
        "colab": {
          "base_uri": "https://localhost:8080/"
        },
        "id": "wtUAKD1Td_Ks",
        "outputId": "e06c47d6-5844-44be-d67d-417755ec46ae"
      },
      "execution_count": 3,
      "outputs": [
        {
          "output_type": "stream",
          "name": "stdout",
          "text": [
            "lista de numeros aleatorios: 69 88 91 81 72 30 40 16 16 84 20 16 84 8 12\n",
            "numero mayor en la lista: 91\n",
            "numero menor en la lista: 8\n"
          ]
        }
      ]
    },
    {
      "cell_type": "markdown",
      "source": [
        "Programa 4"
      ],
      "metadata": {
        "id": "317Xcw20eDNK"
      }
    },
    {
      "cell_type": "code",
      "source": [
        "import random\n",
        "listaaleatorios =[]\n",
        "numeroObjetosLista= 20\n",
        "suma=0\n",
        "#creacion lista\n",
        "for i in range(numeroObjetosLista):\n",
        "    numeroRandom = random.randint(1,100)\n",
        "    listaaleatorios.append(numeroRandom)\n",
        "\n",
        "for x in listaaleatorios:\n",
        "    suma = suma+x\n",
        "\n",
        "\n",
        "print(\"lista generada:\",listaaleatorios)\n",
        "resultado = suma /numeroObjetosLista\n",
        "print(\"el promedio de esta lista es:\",resultado)"
      ],
      "metadata": {
        "id": "_pNv_WqKeE1_",
        "outputId": "6f9ab399-3ac0-4423-f20e-6c23e70e45b8",
        "colab": {
          "base_uri": "https://localhost:8080/"
        }
      },
      "execution_count": 4,
      "outputs": [
        {
          "output_type": "stream",
          "name": "stdout",
          "text": [
            "lista generada: [99, 92, 22, 58, 32, 32, 21, 44, 36, 10, 66, 98, 72, 77, 22, 58, 65, 26, 34, 2]\n",
            "el promedio de esta lista es: 48.3\n"
          ]
        }
      ]
    }
  ]
}