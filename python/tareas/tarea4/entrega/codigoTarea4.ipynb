{
  "nbformat": 4,
  "nbformat_minor": 0,
  "metadata": {
    "colab": {
      "provenance": []
    },
    "kernelspec": {
      "name": "python3",
      "display_name": "Python 3"
    },
    "language_info": {
      "name": "python"
    }
  },
  "cells": [
    {
      "cell_type": "markdown",
      "source": [
        "**Programa 1**"
      ],
      "metadata": {
        "id": "n0KnAZXQjE4t"
      }
    },
    {
      "cell_type": "code",
      "execution_count": null,
      "metadata": {
        "colab": {
          "base_uri": "https://localhost:8080/"
        },
        "id": "NViLuLPri_6G",
        "outputId": "eed48c42-7562-4d60-82a6-2989a4b05fb2"
      },
      "outputs": [
        {
          "output_type": "stream",
          "name": "stdout",
          "text": [
            "El numero aleatorio fue: 4 por lo que toca dividir 61 / 52 el resultado de esta operacion es: 1.1730769230769231\n",
            "El numero aleatorio fue: 2 por lo que toca restar 32 - 52 el resultado de esta operacion es: -20\n",
            "El numero aleatorio fue: 1 por lo que tuca sumar 61 + 100 el resultado de esta operacion es: 161\n",
            "El numero aleatorio fue: 5 por lo cual tenemos que terminar el programa\n"
          ]
        }
      ],
      "source": [
        "import random\n",
        "\n",
        "operacion =random.randint( 1,5)\n",
        "simbolo = \"\"\n",
        "numero = random.randint( 0,100)\n",
        "numero2 = random.randint( 0,100)\n",
        "\n",
        "#suma\n",
        "operacion =random.randint( 1,5)\n",
        "\n",
        "\n",
        "while operacion != 5:\n",
        "\n",
        "    operacion =random.randint( 1,5)\n",
        "    numero = random.randint( 1,100)\n",
        "    numero2 = random.randint( 1,100)\n",
        "    if operacion ==1:\n",
        "        resultado =numero + numero2\n",
        "        print(\"El numero aleatorio fue:\", operacion, \"por lo que tuca sumar\",numero,\"+\",numero2, \"el resultado de esta operacion es:\", resultado )\n",
        "    if operacion ==2:\n",
        "        resultado =numero - numero2\n",
        "        print(\"El numero aleatorio fue:\", operacion, \"por lo que toca restar\",numero,\"-\",numero2, \"el resultado de esta operacion es:\", resultado )\n",
        "    if operacion ==3:\n",
        "        resultado =numero * numero2\n",
        "        print(\"El numero aleatorio fue:\", operacion, \"por lo que toca multiplicar\",numero,\"x\",numero2, \"el resultado de esta operacion es:\", resultado )\n",
        "    if operacion ==4:\n",
        "        resultado =numero / numero2\n",
        "        print(\"El numero aleatorio fue:\", operacion, \"por lo que toca dividir\",numero,\"/\",numero2, \"el resultado de esta operacion es:\", resultado )\n",
        "if operacion ==5:\n",
        "\n",
        "    print(\"El numero aleatorio fue:\", operacion, \"por lo cual tenemos que terminar el programa\" )\n"
      ]
    },
    {
      "cell_type": "markdown",
      "source": [
        "**Programa 2**"
      ],
      "metadata": {
        "id": "xwAG2FmYjKcJ"
      }
    },
    {
      "cell_type": "code",
      "source": [
        "\n",
        "\n",
        "for i in range(1,101):\n",
        "\n",
        "    if i % 3 == 0:\n",
        "        print(i,\"es multiplo de 3\")\n",
        "    else:\n",
        "        print(i,\"no es multiplo de 3\")"
      ],
      "metadata": {
        "colab": {
          "base_uri": "https://localhost:8080/"
        },
        "id": "lPKfqLlejQmj",
        "outputId": "f565799d-9244-48fb-9d02-59fb79dab895"
      },
      "execution_count": null,
      "outputs": [
        {
          "output_type": "stream",
          "name": "stdout",
          "text": [
            "1 no es multiplo de 3\n",
            "2 no es multiplo de 3\n",
            "3 es multiplo de 3\n",
            "4 no es multiplo de 3\n",
            "5 no es multiplo de 3\n",
            "6 es multiplo de 3\n",
            "7 no es multiplo de 3\n",
            "8 no es multiplo de 3\n",
            "9 es multiplo de 3\n",
            "10 no es multiplo de 3\n",
            "11 no es multiplo de 3\n",
            "12 es multiplo de 3\n",
            "13 no es multiplo de 3\n",
            "14 no es multiplo de 3\n",
            "15 es multiplo de 3\n",
            "16 no es multiplo de 3\n",
            "17 no es multiplo de 3\n",
            "18 es multiplo de 3\n",
            "19 no es multiplo de 3\n",
            "20 no es multiplo de 3\n",
            "21 es multiplo de 3\n",
            "22 no es multiplo de 3\n",
            "23 no es multiplo de 3\n",
            "24 es multiplo de 3\n",
            "25 no es multiplo de 3\n",
            "26 no es multiplo de 3\n",
            "27 es multiplo de 3\n",
            "28 no es multiplo de 3\n",
            "29 no es multiplo de 3\n",
            "30 es multiplo de 3\n",
            "31 no es multiplo de 3\n",
            "32 no es multiplo de 3\n",
            "33 es multiplo de 3\n",
            "34 no es multiplo de 3\n",
            "35 no es multiplo de 3\n",
            "36 es multiplo de 3\n",
            "37 no es multiplo de 3\n",
            "38 no es multiplo de 3\n",
            "39 es multiplo de 3\n",
            "40 no es multiplo de 3\n",
            "41 no es multiplo de 3\n",
            "42 es multiplo de 3\n",
            "43 no es multiplo de 3\n",
            "44 no es multiplo de 3\n",
            "45 es multiplo de 3\n",
            "46 no es multiplo de 3\n",
            "47 no es multiplo de 3\n",
            "48 es multiplo de 3\n",
            "49 no es multiplo de 3\n",
            "50 no es multiplo de 3\n",
            "51 es multiplo de 3\n",
            "52 no es multiplo de 3\n",
            "53 no es multiplo de 3\n",
            "54 es multiplo de 3\n",
            "55 no es multiplo de 3\n",
            "56 no es multiplo de 3\n",
            "57 es multiplo de 3\n",
            "58 no es multiplo de 3\n",
            "59 no es multiplo de 3\n",
            "60 es multiplo de 3\n",
            "61 no es multiplo de 3\n",
            "62 no es multiplo de 3\n",
            "63 es multiplo de 3\n",
            "64 no es multiplo de 3\n",
            "65 no es multiplo de 3\n",
            "66 es multiplo de 3\n",
            "67 no es multiplo de 3\n",
            "68 no es multiplo de 3\n",
            "69 es multiplo de 3\n",
            "70 no es multiplo de 3\n",
            "71 no es multiplo de 3\n",
            "72 es multiplo de 3\n",
            "73 no es multiplo de 3\n",
            "74 no es multiplo de 3\n",
            "75 es multiplo de 3\n",
            "76 no es multiplo de 3\n",
            "77 no es multiplo de 3\n",
            "78 es multiplo de 3\n",
            "79 no es multiplo de 3\n",
            "80 no es multiplo de 3\n",
            "81 es multiplo de 3\n",
            "82 no es multiplo de 3\n",
            "83 no es multiplo de 3\n",
            "84 es multiplo de 3\n",
            "85 no es multiplo de 3\n",
            "86 no es multiplo de 3\n",
            "87 es multiplo de 3\n",
            "88 no es multiplo de 3\n",
            "89 no es multiplo de 3\n",
            "90 es multiplo de 3\n",
            "91 no es multiplo de 3\n",
            "92 no es multiplo de 3\n",
            "93 es multiplo de 3\n",
            "94 no es multiplo de 3\n",
            "95 no es multiplo de 3\n",
            "96 es multiplo de 3\n",
            "97 no es multiplo de 3\n",
            "98 no es multiplo de 3\n",
            "99 es multiplo de 3\n",
            "100 no es multiplo de 3\n"
          ]
        }
      ]
    },
    {
      "cell_type": "markdown",
      "source": [
        "**Programa 3**"
      ],
      "metadata": {
        "id": "sdwOGUibjXue"
      }
    },
    {
      "cell_type": "code",
      "source": [
        "lineas = int(input(\"ingrese numero de lineas\"))\n",
        "numeros = []\n",
        "numeroActual = 1\n",
        "print(\"Numero de linaas de la piramide\", lineas)\n",
        "if(lineas >=3):\n",
        "    for i  in range(1,lineas+1):\n",
        "\n",
        "        numeros = []\n",
        "\n",
        "        for i in range(1,i+1):\n",
        "            numeros.append(i )\n",
        "\n",
        "\n",
        "        print(*numeros)\n",
        "else:\n",
        "    print(\"El programa no se pudo ejecutar ya que necesita como mínimo 3 lineas\")"
      ],
      "metadata": {
        "colab": {
          "base_uri": "https://localhost:8080/"
        },
        "id": "DlS7502BjbuN",
        "outputId": "ae7c545b-61e7-4bfa-ba21-26d0781e8d52"
      },
      "execution_count": null,
      "outputs": [
        {
          "output_type": "stream",
          "name": "stdout",
          "text": [
            "ingrese numero de lineas15\n",
            "Numero de linaas de la piramide 15\n",
            "1\n",
            "1 2\n",
            "1 2 3\n",
            "1 2 3 4\n",
            "1 2 3 4 5\n",
            "1 2 3 4 5 6\n",
            "1 2 3 4 5 6 7\n",
            "1 2 3 4 5 6 7 8\n",
            "1 2 3 4 5 6 7 8 9\n",
            "1 2 3 4 5 6 7 8 9 10\n",
            "1 2 3 4 5 6 7 8 9 10 11\n",
            "1 2 3 4 5 6 7 8 9 10 11 12\n",
            "1 2 3 4 5 6 7 8 9 10 11 12 13\n",
            "1 2 3 4 5 6 7 8 9 10 11 12 13 14\n",
            "1 2 3 4 5 6 7 8 9 10 11 12 13 14 15\n"
          ]
        }
      ]
    },
    {
      "cell_type": "markdown",
      "source": [
        "**Programa 4**"
      ],
      "metadata": {
        "id": "xOgvN-cqjjt0"
      }
    },
    {
      "cell_type": "code",
      "source": [
        "numeroSerie= int(input(\"ingrese numero de elementos\"))\n",
        "resultado = 1\n",
        "print(\"n =\", resultado, \"= 1/\",resultado, \"=\", 1)\n",
        "for i in range(1,numeroSerie):\n",
        "\n",
        "    resultadoN= 1 / (i+1 )\n",
        "    print(\"n =\", i, \"= 1/\",i+1, \"=\", round(resultadoN, 2))\n",
        "\n",
        "    resultado = resultado + (1 / (i+1 ))\n",
        "print(\"El resultado de la suma de la secuencia es =\", round(resultado, 2))"
      ],
      "metadata": {
        "colab": {
          "base_uri": "https://localhost:8080/"
        },
        "id": "7sSSOZxlpTwO",
        "outputId": "0f98d70f-b9ad-4b97-91ba-382a4e440485"
      },
      "execution_count": 1,
      "outputs": [
        {
          "output_type": "stream",
          "name": "stdout",
          "text": [
            "ingrese numero de elementos9\n",
            "n = 1 = 1/ 1 = 1\n",
            "n = 1 = 1/ 2 = 0.5\n",
            "n = 2 = 1/ 3 = 0.33\n",
            "n = 3 = 1/ 4 = 0.25\n",
            "n = 4 = 1/ 5 = 0.2\n",
            "n = 5 = 1/ 6 = 0.17\n",
            "n = 6 = 1/ 7 = 0.14\n",
            "n = 7 = 1/ 8 = 0.12\n",
            "n = 8 = 1/ 9 = 0.11\n",
            "El resultado de la suma de la secuencia es = 2.83\n"
          ]
        }
      ]
    }
  ]
}