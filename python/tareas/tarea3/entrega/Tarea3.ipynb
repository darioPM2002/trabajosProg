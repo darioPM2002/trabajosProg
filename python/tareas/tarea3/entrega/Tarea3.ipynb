{
  "nbformat": 4,
  "nbformat_minor": 0,
  "metadata": {
    "colab": {
      "provenance": []
    },
    "kernelspec": {
      "name": "python3",
      "display_name": "Python 3"
    },
    "language_info": {
      "name": "python"
    }
  },
  "cells": [
    {
      "cell_type": "markdown",
      "source": [
        "**Programa 1**\n"
      ],
      "metadata": {
        "id": "s5wkX8iO5n77"
      }
    },
    {
      "cell_type": "code",
      "execution_count": null,
      "metadata": {
        "colab": {
          "base_uri": "https://localhost:8080/"
        },
        "id": "N0i3mrLL5Opw",
        "outputId": "54e4ce28-b4df-4038-8857-68700ca6440a"
      },
      "outputs": [
        {
          "output_type": "stream",
          "name": "stdout",
          "text": [
            "Ingresa tu peso, solo el número de kg65\n",
            "peso ingresado: 65.0kg\n",
            "Ingresa tu altura, en unidades de metros1.76\n",
            "altura ingresada: 1.76mts\n",
            "Tu indece de masa corporal es:  20.983987603305785 y tienes:\n",
            "Peso normal\n"
          ]
        }
      ],
      "source": [
        "imc = 0\n",
        "\n",
        "peso = float(input(\"Ingresa tu peso, solo el número de kg\"))\n",
        "print(\"peso ingresado:\", str(peso) + \"kg\")\n",
        "altura = float(input(\"Ingresa tu altura, en unidades de metros\"))\n",
        "print(\"altura ingresada:\", str(altura) + \"mts\")\n",
        "imc = (peso)/(altura*altura)\n",
        "\n",
        "print (\"Tu indece de masa corporal es: \", str(imc), \"y tienes:\")\n",
        "\n",
        "if(imc < 18):\n",
        "    print(\"Peso bajo. Necesario valorar signos de desnutrición\")\n",
        "\n",
        "if(imc >= 18 and imc <25):\n",
        "    print(\"Peso normal\")\n",
        "\n",
        "if(imc >= 25 and imc <27):\n",
        "    print(\"Sobrepeso\")\n",
        "\n",
        "if(imc >= 27 and imc <30):\n",
        "    print(\"Obesidad gado 1, riesgo relativo alto para desarrollar enfermedades cardiovasculares\")\n",
        "\n",
        "if(imc >= 30 and imc <40):\n",
        "    print(\"Obesidad grado 2, riesgo relativo muy alto para el desarrollo de enfermedades cardiovasculares\")\n",
        "\n",
        "if(imc >= 30 ):\n",
        "    print(\"Obesidad grado 3 Extrema o Mórbida, riesgo relativo extremadamente alto para el desarrollo de enfermedades cardiovasculares\")\n",
        "\n"
      ]
    },
    {
      "cell_type": "markdown",
      "source": [
        "**Programa 2**"
      ],
      "metadata": {
        "id": "v8ZUaUSZ5wlL"
      }
    },
    {
      "cell_type": "code",
      "source": [
        "año = int(input(\"Ingrese año: \"))\n",
        "\n",
        "if(año %4 == 0 and año %100 != 0 or año %400 ==0):\n",
        "    print(\"bisiesto\")\n",
        "else:\n",
        "    print(\"no bisiesto\")"
      ],
      "metadata": {
        "colab": {
          "base_uri": "https://localhost:8080/"
        },
        "id": "6H8S5Dff5svD",
        "outputId": "73ec96e8-3401-4953-a40f-196785417b30"
      },
      "execution_count": null,
      "outputs": [
        {
          "output_type": "stream",
          "name": "stdout",
          "text": [
            "Ingrese año: 2002\n",
            "no bisiesto\n"
          ]
        }
      ]
    },
    {
      "cell_type": "markdown",
      "source": [
        "**Programa 3**"
      ],
      "metadata": {
        "id": "unJpUrne55lg"
      }
    },
    {
      "cell_type": "code",
      "source": [
        "i = 0\n",
        "\n",
        "primerFigStr =  \"\"\n",
        "segundaFigStr=  \"\"\n",
        "terceraFigStr=  \"\"\n",
        "cuartaFigStr=   \"\"\n",
        "filas = int(input(\"ingresar filas\"))\n",
        "\n",
        "#segunda gifura\n",
        "espaciosint = filas\n",
        "\n",
        "\n",
        "while(i <= filas):\n",
        "    print(primerFigStr +\"     \"+str(segundaFigStr)+\"     \" + terceraFigStr+\"     \"+cuartaFigStr)\n",
        "    #PRIMER FIGURA\n",
        "    primerFigStr =\"*\" * filas\n",
        "\n",
        "    #SEGUNDA FIGURA\n",
        "    if(i == 0 or i == filas -1):\n",
        "      segundaFigStr =\"*\" * filas\n",
        "    else:\n",
        "       segundaFigStr =str(\"*\" + \" \" * (filas-2) +\"*\")\n",
        "\n",
        "\n",
        "    #Tercera figura\n",
        "    espacios =\" \" *  espaciosint\n",
        "    asteriscos = \"*\" * (i+1)\n",
        "    terceraFigStr=  str(espacios +asteriscos)\n",
        "\n",
        "    #cuarta figura\n",
        "    cuartaFigStr =terceraFigStr+ \"*\" * int(i-1)\n",
        "\n",
        "\n",
        "    espaciosint = espaciosint -1\n",
        "    i = i + 1\n",
        "\n"
      ],
      "metadata": {
        "colab": {
          "base_uri": "https://localhost:8080/"
        },
        "id": "8YPNklJq51sH",
        "outputId": "a2ddafc7-44c4-4b39-821c-6229dc13a2fd"
      },
      "execution_count": null,
      "outputs": [
        {
          "output_type": "stream",
          "name": "stdout",
          "text": [
            "ingresar filas15\n",
            "               \n",
            "***************     ***************                    *                    *\n",
            "***************     *             *                   **                   **\n",
            "***************     *             *                  ***                  ****\n",
            "***************     *             *                 ****                 ******\n",
            "***************     *             *                *****                ********\n",
            "***************     *             *               ******               **********\n",
            "***************     *             *              *******              ************\n",
            "***************     *             *             ********             **************\n",
            "***************     *             *            *********            ****************\n",
            "***************     *             *           **********           ******************\n",
            "***************     *             *          ***********          ********************\n",
            "***************     *             *         ************         **********************\n",
            "***************     *             *        *************        ************************\n",
            "***************     *             *       **************       **************************\n",
            "***************     ***************      ***************      ****************************\n"
          ]
        }
      ]
    },
    {
      "cell_type": "markdown",
      "source": [],
      "metadata": {
        "id": "0d4uVVYL5hYz"
      }
    }
  ]
}