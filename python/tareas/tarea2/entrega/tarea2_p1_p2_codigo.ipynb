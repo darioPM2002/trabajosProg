{
  "nbformat": 4,
  "nbformat_minor": 0,
  "metadata": {
    "colab": {
      "provenance": []
    },
    "kernelspec": {
      "name": "python3",
      "display_name": "Python 3"
    },
    "language_info": {
      "name": "python"
    }
  },
  "cells": [
    {
      "cell_type": "code",
      "execution_count": 1,
      "metadata": {
        "colab": {
          "base_uri": "https://localhost:8080/"
        },
        "id": "5JYX2_125Vw4",
        "outputId": "e49db437-4aa7-478d-8794-5542736b8c19"
      },
      "outputs": [
        {
          "output_type": "stream",
          "name": "stdout",
          "text": [
            "--------------------------------\n",
            "Ingrese radio de tu círculo3\n",
            "--------------------------------\n",
            "--------------------------------\n",
            "El area de un circulo con un radio de: 3.0 cm es: 28.2744 cm cuadrados\n",
            "El perímetro de un circulo con un radio de: 3.0 cm es: 18.8496 cm cuadrados\n",
            "--------------------------------\n"
          ]
        }
      ],
      "source": [
        "#TAREA 1\n",
        "PI = 3.1416\n",
        "perimetro = 0.0\n",
        "area = 0.0\n",
        "radio = 0.0\n",
        "\n",
        "print(\"--------------------------------\")\n",
        "radio = float(input(\"Ingrese radio de tu círculo\"))\n",
        "\n",
        "area = (PI)* (radio ** 2)\n",
        "perimetro = (2)*(PI)*(radio)\n",
        "\n",
        "print(\"--------------------------------\")\n",
        "print(\"--------------------------------\")\n",
        "print(\"El area de un circulo con un radio de:\", radio, \"cm\",\"es:\", area, \"cm cuadrados\" )\n",
        "print(\"El perímetro de un circulo con un radio de:\", radio, \"cm\",\"es:\", perimetro, \"cm cuadrados\" )\n",
        "\n",
        "print(\"--------------------------------\")\n",
        "\n"
      ]
    },
    {
      "cell_type": "code",
      "source": [
        "#TAREA 2\n",
        "e = 7\n",
        "f = 8\n",
        "g = 10\n",
        "h = 12\n",
        "\n",
        "print(\"------------------------\")\n",
        "print(\"variables originales\")\n",
        "print(\"e\",e)\n",
        "print(\"f\",f)\n",
        "print(\"g\",g)\n",
        "print(\"h\",h)\n",
        "\n",
        "f = f+e\n",
        "e = f-e\n",
        "f= f-e\n",
        "g = g+h\n",
        "h = g-h\n",
        "g = g-h\n",
        "\n",
        "print(\"------------------------\")\n",
        "print(\"Cambio de variables, nuevas variables:\")\n",
        "print(\"e\",e)\n",
        "print(\"f\",f)\n",
        "print(\"g\",g)\n",
        "print(\"h\",h)\n",
        "\n",
        "\n",
        "\n",
        "\n",
        "\n",
        "#----------------------------------------------------------------\n",
        "#Solución alterna\n",
        "\n",
        "print(\"------------------------\")\n",
        "print(\"Solución alterna\")\n",
        "a = 5\n",
        "b = 10\n",
        "c = 42\n",
        "d = 24\n",
        "print(\"------------------------\")\n",
        "print(\"variables originales\")\n",
        "print(\"a:\",a)\n",
        "print(\"b:\",b)\n",
        "print(\"c:\",c)\n",
        "print(\"d:\",d)\n",
        "\n",
        "\n",
        "b = (str(a) + str(b)+str(c)+ str(d) ) #\n",
        "print (b)\n",
        "\n",
        "\n",
        "a = int( b[1:3])\n",
        "c = int( b[3:5])\n",
        "d = int( b[5:7])\n",
        "b = int( b [0] )\n",
        "\n",
        "\n",
        "print(\"------------------------\")\n",
        "print(\"cambio de variables\")\n",
        "print(\"a:\",a)\n",
        "print(\"b:\",b)\n",
        "print(\"c:\",c)\n",
        "print(\"d:\",d)\n",
        "\n"
      ],
      "metadata": {
        "colab": {
          "base_uri": "https://localhost:8080/"
        },
        "id": "irvbbG8A5da_",
        "outputId": "eed804ba-2f64-4609-87c0-dae773d36f45"
      },
      "execution_count": 2,
      "outputs": [
        {
          "output_type": "stream",
          "name": "stdout",
          "text": [
            "------------------------\n",
            "variables originales\n",
            "e 7\n",
            "f 8\n",
            "g 10\n",
            "h 12\n",
            "------------------------\n",
            "Cambio de variables, nuevas variables:\n",
            "e 8\n",
            "f 7\n",
            "g 12\n",
            "h 10\n",
            "------------------------\n",
            "Solución alterna\n",
            "------------------------\n",
            "variables originales\n",
            "a: 5\n",
            "b: 10\n",
            "c: 42\n",
            "d: 24\n",
            "5104224\n",
            "------------------------\n",
            "cambio de variables\n",
            "a: 10\n",
            "b: 5\n",
            "c: 42\n",
            "d: 24\n"
          ]
        }
      ]
    }
  ]
}