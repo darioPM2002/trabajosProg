{
  "nbformat": 4,
  "nbformat_minor": 0,
  "metadata": {
    "colab": {
      "provenance": []
    },
    "kernelspec": {
      "name": "python3",
      "display_name": "Python 3"
    },
    "language_info": {
      "name": "python"
    }
  },
  "cells": [
    {
      "cell_type": "code",
      "execution_count": null,
      "metadata": {
        "colab": {
          "base_uri": "https://localhost:8080/"
        },
        "id": "1Mr44GQrKS47",
        "outputId": "163f7244-da97-4b9e-96a2-c26c1deb315c"
      },
      "outputs": [
        {
          "output_type": "stream",
          "name": "stdout",
          "text": [
            "Este programa sirve para convertir grados celsuis a grados Fahrenheit y viceversa\n",
            "A continuación deberás ingresar los grados a calcular\n",
            "...\n",
            "Ingresa grados celsius32\n",
            "Dato ingresado: 32.0\n",
            "Ingresa grados Fahrenheit24\n",
            "Dato ingresado: 24.0\n",
            "Calculando grados\n",
            "********\n",
            "****************\n",
            "************************\n",
            "********************************\n",
            "La temperatura en celsius es: 32.0° esto convertido a Fahrenheit es: 89.6°\n",
            "La temperatura en fahrenheit es: 24.0° esto convertido a celsius es: -4.444444444444445°\n"
          ]
        }
      ],
      "source": [
        "#PROGRAMA 1\n",
        "\n",
        "print(\"Este programa sirve para convertir grados celsuis a grados Fahrenheit y viceversa\")\n",
        "print(\"A continuación deberás ingresar los grados a calcular\")\n",
        "\n",
        "print(\"...\")\n",
        "\n",
        "celsius = float(input(\"Ingresa grados celsius\"))\n",
        "\n",
        "print(\"Dato ingresado:\", celsius)\n",
        "\n",
        "fahrenheit = float(input(\"Ingresa grados Fahrenheit\"))\n",
        "32\n",
        "print(\"Dato ingresado:\", fahrenheit)\n",
        "\n",
        "temperaturaFahrenheit = float((9/5.0) * celsius + 32)\n",
        "temperaturaCelsius =  float((fahrenheit -32) * (5.0/9.0))\n",
        "\n",
        "print(\"Calculando grados\")\n",
        "print(\"********\")\n",
        "print(\"****************\")\n",
        "print(\"************************\")\n",
        "print(\"********************************\")\n",
        "\n",
        "\n",
        "print(\"La temperatura en celsius es: \" + str(celsius) + \"° esto convertido a Fahrenheit es:\", str(temperaturaFahrenheit) + \"°\")\n",
        "\n",
        "print(\"La temperatura en fahrenheit es: \" + str(fahrenheit) + \"° esto convertido a celsius es:\", str(temperaturaCelsius) + \"°\")\n"
      ]
    },
    {
      "cell_type": "code",
      "source": [
        "#PROGRAMA 2\n",
        "#VARIABLES\n",
        "precio_unitario = 18\n",
        "precio_antes_impuestos = 0\n",
        "precio_final = 0\n",
        "impuestos_compra = 0.16\n",
        "articulos_comprar = int(input(\"Ingresa número de artículos a comprar\"))\n",
        "\n",
        "print(\"Vas a comprar: \" + str(articulos_comprar), \"artículos a un precio de \" + str(precio_unitario)+\"$\" )\n",
        "\n",
        "\n",
        "#CALCULOS\n",
        "precio_antes_impuestos = articulos_comprar * precio_unitario\n",
        "precio_final = precio_antes_impuestos + precio_antes_impuestos* impuestos_compra\n",
        "(\"--------------------------------------------------------\")\n",
        "print(\"Precio antes de impuestos\" ,str(precio_antes_impuestos) + \"$\")\n",
        "print(\"--------------------------------------------------------\")\n",
        "print(\"calculando impuestos...\")\n",
        "\n",
        "print(\"Precio final después de impuestos\" ,str(precio_final) + \"$\")\n",
        "\n"
      ],
      "metadata": {
        "colab": {
          "base_uri": "https://localhost:8080/"
        },
        "id": "kk1IhsBf1E1t",
        "outputId": "05763882-fd72-4709-987f-3611af17714a"
      },
      "execution_count": 1,
      "outputs": [
        {
          "output_type": "stream",
          "name": "stdout",
          "text": [
            "Ingresa número de artículos a comprar5\n",
            "Vas a comprar: 5 artículos a un precio de 18$\n",
            "Precio antes de impuestos 90$\n",
            "--------------------------------------------------------\n",
            "calculando impuestos...\n",
            "Precio final después de impuestos 104.4$\n"
          ]
        }
      ]
    }
  ]
}