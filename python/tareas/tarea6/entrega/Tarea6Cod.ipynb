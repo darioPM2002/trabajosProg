{
  "nbformat": 4,
  "nbformat_minor": 0,
  "metadata": {
    "colab": {
      "provenance": []
    },
    "kernelspec": {
      "name": "python3",
      "display_name": "Python 3"
    },
    "language_info": {
      "name": "python"
    }
  },
  "cells": [
    {
      "cell_type": "markdown",
      "source": [
        "# PROGRAMA 1"
      ],
      "metadata": {
        "id": "XHo6OSyuKU9E"
      }
    },
    {
      "cell_type": "code",
      "execution_count": 1,
      "metadata": {
        "colab": {
          "base_uri": "https://localhost:8080/"
        },
        "id": "c3HPSlD9KUMm",
        "outputId": "608b2fbe-e1ce-4e5e-feb6-4c9c3a38a521"
      },
      "outputs": [
        {
          "output_type": "stream",
          "name": "stdout",
          "text": [
            "numero 12: 12\n",
            "numero 13: 13\n",
            "numero 14: 14\n",
            "numero 15: 15\n",
            "numero 1: 1\n",
            "numero 2: 2\n",
            "numero 3: 3\n",
            "tupla (1, 2, 3)\n",
            "numero 5: 5\n",
            "numero 6: 6\n",
            "numero 7: 7\n",
            "numero 8: 8\n",
            "suma de numeros: 26\n"
          ]
        }
      ],
      "source": [
        "x=[ [True, False, True,(\"1\",\"2\",\"3\",{\"4\":[5,6,7,8]})] ,9 ,10 , {\"11\":[12,[13,[14,15]]]} ]\n",
        "#tupla ()\n",
        "#lista []\n",
        "#diccionario{}\n",
        "\n",
        "n12= x[3][\"11\"][0]\n",
        "n13= x[3][\"11\"][1][0]\n",
        "n14= x[3][\"11\"][1][1][0]\n",
        "n15 =x[3][\"11\"][1][1][1]\n",
        "\n",
        "n1 =int(x[0][3][0])\n",
        "n2=int(x[0][3][1])\n",
        "n3 =int(x[0][3][2])\n",
        "\n",
        "tuplanumeros= (n1,n2,n3)\n",
        "\n",
        "n5 =x[0][3][3][\"4\"][0]\n",
        "n6=x[0][3][3][\"4\"][1]\n",
        "n7 =x[0][3][3][\"4\"][2]\n",
        "n8 =x[0][3][3][\"4\"][3]\n",
        "\n",
        "suma = n5+n6+n7+n8\n",
        "\n",
        "print(\"numero 12:\", n12)\n",
        "print(\"numero 13:\",n13)\n",
        "print(\"numero 14:\",n14)\n",
        "print(\"numero 15:\",n15)\n",
        "print(\"numero 1:\",n1)\n",
        "print(\"numero 2:\",n2)\n",
        "print(\"numero 3:\",n3)\n",
        "print(\"tupla\", tuplanumeros)\n",
        "print(\"numero 5:\",n5)\n",
        "print(\"numero 6:\",n6)\n",
        "print(\"numero 7:\",n7)\n",
        "print(\"numero 8:\",n8)\n",
        "print(\"suma de numeros:\",suma)\n",
        "\n",
        "\n",
        "\n",
        "\n"
      ]
    },
    {
      "cell_type": "markdown",
      "source": [
        "# PROGRAMA 2\n"
      ],
      "metadata": {
        "id": "N1GKb3_KKZYJ"
      }
    },
    {
      "cell_type": "code",
      "source": [
        "import random\n",
        "\n",
        "def crearMatriz(a,b):\n",
        "   matriz = []\n",
        "   for x in range(a):\n",
        "       listaLit = []\n",
        "       for y in range(b):\n",
        "           dato = random.randint(1,5)\n",
        "           listaLit.append(dato)\n",
        "       matriz.append(listaLit)\n",
        "   print(\" \")\n",
        "   return matriz\n",
        "\n",
        "\n",
        "#impresion matriz\n",
        "def impresionMatriz(matriz):\n",
        "   for x in range(len(matriz)):\n",
        "\n",
        "       for y in range(len(matriz[0])):\n",
        "         print(matriz[x][y], end= \"  \")\n",
        "       print(\"\")\n",
        "   print(\" \")\n",
        "\n",
        "\n",
        "\n",
        "def sumaTrianguloSuperior(matriz):\n",
        "   suma=0\n",
        "   for x in range(len(matriz)):\n",
        "    for y in range(len(matriz[0])):\n",
        "\n",
        "        if x < y:\n",
        "           # x < y triangular superior\n",
        "           #x>y trinagular inferior\n",
        "           #x==y diagonal principal\n",
        "           suma = suma + matriz[x][y]\n",
        "\n",
        "   return suma\n",
        "\n",
        "elemtosMatriz= int(input(\"ingresa la longitud de la matriz\"))\n",
        "matriz =crearMatriz(elemtosMatriz, elemtosMatriz)\n",
        "impresionMatriz(matriz)\n",
        "resultado=sumaTrianguloSuperior(matriz)\n",
        "print (\"suma de triangular de la matriz:\", resultado)\n"
      ],
      "metadata": {
        "colab": {
          "base_uri": "https://localhost:8080/"
        },
        "id": "xZC7qRI3KiV8",
        "outputId": "3085076d-0fa4-4f17-e10a-a636b4950f53"
      },
      "execution_count": 2,
      "outputs": [
        {
          "output_type": "stream",
          "name": "stdout",
          "text": [
            "ingresa la longitud de la matriz5\n",
            " \n",
            "5  2  3  2  5  \n",
            "2  2  1  1  3  \n",
            "1  3  1  2  5  \n",
            "4  2  4  2  2  \n",
            "5  5  5  1  1  \n",
            " \n",
            "suma de triangular de la matriz: 26\n"
          ]
        }
      ]
    },
    {
      "cell_type": "markdown",
      "source": [
        "# PROGRAMA 3"
      ],
      "metadata": {
        "id": "O1nBlcBeKnmK"
      }
    },
    {
      "cell_type": "code",
      "source": [
        "\n",
        "\n",
        "\n",
        "def contadorPorpalabras(oracion):\n",
        "    #diccionario para sumar numeros\n",
        "    print(\"oracion:\", oracion)\n",
        "    oracion=oracion.split(\" \") #[oracion, sin, letras]\n",
        "    setoracion=set(oracion)\n",
        "\n",
        "    def valoresunicosdiccionario (oracionVunicos ):\n",
        "        key =0\n",
        "        diccionarioValores= {}\n",
        "\n",
        "        for i in oracionVunicos:#letras\n",
        "            diccionarioValores[oracion[key]]= 0\n",
        "            key +=1\n",
        "        return diccionarioValores\n",
        "\n",
        "\n",
        "\n",
        "    diccionario =valoresunicosdiccionario(setoracion)\n",
        "    #contador\n",
        "    n= 0\n",
        "    for x in oracion:\n",
        "        if x == oracion[n]:\n",
        "            diccionario[oracion[n]] =1+diccionario[oracion[n]]\n",
        "\n",
        "            n+=1\n",
        "\n",
        "\n",
        "    #imprime llave- valor\n",
        "    for i in setoracion:\n",
        "         \"oracion\"\n",
        "         print(\"llave:\", i, \"----valor:\",diccionario[i])\n",
        "\n",
        "    print(\"----------------\")\n",
        "    return diccionario\n",
        "\n",
        "\n",
        "\n",
        "def contadorPorLetras(oracionletras):\n",
        "    oracion = oracionletras #lista con todas letras\n",
        "    lista_oracion = [] #letras unicas/no se repiten\n",
        "\n",
        "    for letra in oracion:\n",
        "        if letra not in lista_oracion:\n",
        "            lista_oracion.append(letra)\n",
        "    oracion_sin_duplicados = \"\".join(lista_oracion)\n",
        "    print(\"oracion:\", oracionletras)\n",
        "\n",
        "    setoracion=oracion_sin_duplicados\n",
        "    listaletrasUnicas=list(setoracion)\n",
        "\n",
        "    def valoresunicosletras(oracionVunicos ):\n",
        "        key =0\n",
        "        diccionarioValores= {}\n",
        "        for i in oracionVunicos:\n",
        "\n",
        "            diccionarioValores[oracionVunicos[key]]= 0\n",
        "\n",
        "            key +=1\n",
        "\n",
        "        return diccionarioValores\n",
        "\n",
        "    diccionario =valoresunicosletras(listaletrasUnicas)\n",
        "\n",
        "    #CONTADOR\n",
        "    n= 0\n",
        "    for x in oracionletras:\n",
        "        if x == oracionletras[n]:\n",
        "            diccionario[oracionletras[n]] =1 + diccionario[oracionletras[n]]\n",
        "            n+=1\n",
        "\n",
        "\n",
        "\n",
        "    for i in  oracion_sin_duplicados:\n",
        "\n",
        "         print(\"llave:\", i, \"----valor:\",diccionario[i])\n",
        "\n",
        "    print(\"----------------\")\n",
        "    return diccionario\n",
        "\n",
        "oracionUsuario= input(\"ingrese una oracíón\")\n",
        "contadorPorLetras(oracionUsuario)\n",
        "contadorPorpalabras(oracionUsuario)"
      ],
      "metadata": {
        "colab": {
          "base_uri": "https://localhost:8080/"
        },
        "id": "EUQl69CJKp0V",
        "outputId": "fe22aaaa-adf4-4e7f-ea86-adf353b85272"
      },
      "execution_count": 3,
      "outputs": [
        {
          "output_type": "stream",
          "name": "stdout",
          "text": [
            "ingrese una oracíónmucho gusto gusto\n",
            "oracion: mucho gusto gusto\n",
            "llave: m ----valor: 1\n",
            "llave: u ----valor: 3\n",
            "llave: c ----valor: 1\n",
            "llave: h ----valor: 1\n",
            "llave: o ----valor: 3\n",
            "llave:   ----valor: 2\n",
            "llave: g ----valor: 2\n",
            "llave: s ----valor: 2\n",
            "llave: t ----valor: 2\n",
            "----------------\n",
            "oracion: mucho gusto gusto\n",
            "llave: gusto ----valor: 2\n",
            "llave: mucho ----valor: 1\n",
            "----------------\n"
          ]
        },
        {
          "output_type": "execute_result",
          "data": {
            "text/plain": [
              "{'mucho': 1, 'gusto': 2}"
            ]
          },
          "metadata": {},
          "execution_count": 3
        }
      ]
    },
    {
      "cell_type": "markdown",
      "source": [
        "\n",
        "# PROGRAMA 4"
      ],
      "metadata": {
        "id": "chfpC4e4KzPz"
      }
    },
    {
      "cell_type": "code",
      "source": [
        "import random\n",
        "\n",
        "\n",
        "def orenarMin(listaRandom):\n",
        "\n",
        "    if len(listaRandom) <= 1:\n",
        "        return listaRandom\n",
        "    elementominimo = min(listaRandom)\n",
        "    nueva_lista = [x for x in listaRandom if x != elementominimo]\n",
        "    return [elementominimo] + orenarMin(nueva_lista)\n",
        "\n",
        "n = int(input(\"ingresa numero de elementos de la lista\"))\n",
        "crearListaAleatoria = [random.randint(1, 100) for _ in range(n)]\n",
        "listaOrdenada = orenarMin(crearListaAleatoria)\n",
        "\n",
        "print(\"Lista original:\", crearListaAleatoria)\n",
        "print(\"Lista ordenada:\", listaOrdenada)"
      ],
      "metadata": {
        "colab": {
          "base_uri": "https://localhost:8080/"
        },
        "id": "Mhi3zS9aK39s",
        "outputId": "a7404b78-0289-4785-b042-9f011a69bfc2"
      },
      "execution_count": 4,
      "outputs": [
        {
          "output_type": "stream",
          "name": "stdout",
          "text": [
            "ingresa numero de elementos de la lista20\n",
            "Lista original: [43, 24, 48, 59, 76, 48, 95, 32, 32, 33, 52, 60, 14, 87, 28, 7, 100, 44, 46, 73]\n",
            "Lista ordenada: [7, 14, 24, 28, 32, 33, 43, 44, 46, 48, 52, 59, 60, 73, 76, 87, 95, 100]\n"
          ]
        }
      ]
    }
  ]
}